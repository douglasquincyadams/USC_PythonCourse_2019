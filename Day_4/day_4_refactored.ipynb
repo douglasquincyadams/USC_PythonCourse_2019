{
 "cells": [
  {
   "cell_type": "code",
   "execution_count": 16,
   "metadata": {},
   "outputs": [
    {
     "name": "stdout",
     "output_type": "stream",
     "text": [
      "done importing\n"
     ]
    }
   ],
   "source": [
    "import numpy as np\n",
    "import numpy,scipy\n",
    "import six,nestle\n",
    "import astropy\n",
    "from sncosmo.utils import Result, Interp1D,ppf\n",
    "from scipy.interpolate import interp1d as interp\n",
    "from astropy.table import Table\n",
    "import matplotlib.pyplot as plt\n",
    "from scipy.stats import multivariate_normal as multi_gauss\n",
    "\n",
    "#---------------------------------------------------------------------\n",
    "\n",
    "import Library_GraphTwoDimensionDensityColorMap\n",
    "#---------------------------------------------------------------------\n",
    "\n",
    "print (\"done importing\")"
   ]
  },
  {
   "cell_type": "markdown",
   "metadata": {},
   "source": [
    "**Data Generation**\n",
    "=============="
   ]
  },
  {
   "cell_type": "code",
   "execution_count": 97,
   "metadata": {},
   "outputs": [],
   "source": [
    "#Set the variables for our model, and the model itself\n",
    "v = 50\n",
    "g = 10\n",
    "def my_model( v,g, t):\n",
    "    return v*t -.5*g*t**2\n",
    "\n"
   ]
  },
  {
   "cell_type": "code",
   "execution_count": 98,
   "metadata": {},
   "outputs": [],
   "source": [
    "#(SECRET)\n",
    "#Pick some times of which to observe the height\n",
    "times=np.linspace(.1,10,20) # measurement times\n",
    "\n",
    "\n",
    "#figure out the heights which are \"real\" for the given times above\n",
    "perfect_data=my_model(v,g,times)\n"
   ]
  },
  {
   "cell_type": "code",
   "execution_count": 105,
   "metadata": {},
   "outputs": [],
   "source": [
    "#What does the experimentalist give us?\n",
    "\n",
    "#Set the height uncertainty --> This is the entire error function from the experimentalist\n",
    "#   (we have uncertainty in the same units as the height --> meters)\n",
    "measurement_uncertainty = 10\n",
    "errors=np.ones(len(times))*measurement_uncertainty\n",
    "\n",
    "\n",
    "#Define the measurment error function which is something the experimentalist would give us.\n",
    "covariance_matrix=np.array(\n",
    "    [\n",
    "        [.58,   13.35],\n",
    "        [13.35, 501.77]\n",
    "    ])\n"
   ]
  },
  {
   "cell_type": "code",
   "execution_count": 106,
   "metadata": {
    "scrolled": true
   },
   "outputs": [],
   "source": [
    "#(SECRET)\n",
    "#Generate 1D uncertainty dataset\n",
    "#   By 1D, we mean that we have only error in the height measurement. \n",
    "#   We have NO time measurement error   \n",
    "\n",
    "\n",
    "\n",
    "#Introduce error into the \"perfect\" data using the experiment error\n",
    "heights=np.random.normal(perfect_data,errors)\n",
    "my_data_1D=Table([times,heights,errors],\n",
    "              names=('time','height','error'))\n",
    "\n",
    "#print( my_data_1D )\n",
    "\n",
    "#Write the generated data to a file on the disk of the computer\n",
    "astropy.io.ascii.write( my_data_1D, \"1D_Generated_Data.astropydat\" , overwrite = True )\n"
   ]
  },
  {
   "cell_type": "code",
   "execution_count": 116,
   "metadata": {},
   "outputs": [],
   "source": [
    "#(SECRET)\n",
    "#Generate 1D uncertainty dataset with a model that will not work with\n",
    "#   a simple chi-square minimization.\n",
    "#   By 1D, we mean that we have only error in the height measurement. \n",
    "#   We have NO time measurement error   .\n",
    "\n",
    "#Set the variables for our model, and the model itself\n",
    "v = 50\n",
    "g = -10\n",
    "def my_bad_model( v,g, t):\n",
    "    return v*t -.5*g**2*t**2\n",
    "\n",
    "#Generate \"perfect\" data with the bad model.\n",
    "perfect_bad_data=my_bad_model(v,g,times)\n",
    "#Introduce error into the \"perfect\" data using the experiment error\n",
    "heights_bad=np.random.normal(perfect_bad_data,errors)\n",
    "my_bad_data_1D=Table([times,heights_bad,errors],\n",
    "              names=('time','height','error'))\n",
    "\n",
    "#print( my_data_1D )\n",
    "\n",
    "#Write the generated data to a file on the disk of the computer\n",
    "astropy.io.ascii.write( my_bad_data_1D, \"1D_Generated_Data_ChiProblem.astropydat\" , overwrite = True )"
   ]
  },
  {
   "cell_type": "code",
   "execution_count": 107,
   "metadata": {},
   "outputs": [],
   "source": [
    "#(SECRET)\n",
    "#Generate 2D uncertainty dataset\n",
    "#   By 2D, we mean that we have only error in BOTH\n",
    "#      the height measurement  \n",
    "#      AND time measurement error \n",
    "#   The errors are not mutually exclusive. \n",
    "#   The errors can be thought of as DEPENDENT RANDOM VARIABLES\n",
    "\n",
    "\n",
    "covariance_matrices=[covariance_matrix]*len(perfect_data)\n",
    "\n",
    "#Use the measurment error function to take the perfect data, and mess it up\n",
    "times_2d=[]\n",
    "heights_2d=[]\n",
    "for i in range(len(perfect_data)):\n",
    "    t,f=np.random.multivariate_normal(\n",
    "                    mean=[times[i],perfect_data[i]],\n",
    "                    cov=covariance_matrix)\n",
    "    times_2d.append(t)\n",
    "    heights_2d.append(f)\n",
    "\n",
    "my_data_2D=Table([times_2d,heights_2d],names=('time','height'))\n",
    "\n",
    "#Write the generated data to a file on the disk of the computer\n",
    "astropy.io.ascii.write( my_data_2D, \"2D_Generated_Data.astropydat\", overwrite = True )\n",
    "\n",
    "\n",
    "\n"
   ]
  },
  {
   "cell_type": "code",
   "execution_count": 108,
   "metadata": {},
   "outputs": [],
   "source": [
    "#Read the generated data from a file, and store as a python variable:\n",
    "my_data_1D = astropy.io.ascii.read( \"1D_Generated_Data.astropydat\" )\n",
    "#print( my_data_1D )\n",
    "\n",
    "#Read the generated data from a file, and store as a python variable:\n",
    "my_data_2D = astropy.io.ascii.read( \"2D_Generated_Data.astropydat\" )\n",
    "#print( my_data_2D )\n",
    "\n"
   ]
  },
  {
   "cell_type": "code",
   "execution_count": 109,
   "metadata": {},
   "outputs": [],
   "source": [
    "def generate_experiment_error_function(mu, cov):\n",
    "    def experiment_error_function(Point):\n",
    "        x = Point\n",
    "        return multi_gauss.pdf(x, mu, cov)\n",
    "    return experiment_error_function"
   ]
  },
  {
   "cell_type": "markdown",
   "metadata": {},
   "source": [
    "**Data Plotting**\n",
    "=============="
   ]
  },
  {
   "cell_type": "code",
   "execution_count": 110,
   "metadata": {},
   "outputs": [
    {
     "data": {
      "image/png": "[encoded data removed]",
      "text/plain": [
       "<Figure size 432x288 with 1 Axes>"
      ]
     },
     "metadata": {
      "needs_background": "light"
     },
     "output_type": "display_data"
    }
   ],
   "source": [
    "#Plot the 1D data\n",
    "plt.errorbar( my_data_1D['time'], my_data_1D['height'], yerr =  my_data_1D['error'], fmt = \".\")\n",
    "plt.ylabel('Height (Meters)',fontsize=14)\n",
    "plt.xlabel('Time (Seconds)',fontsize=14)\n",
    "plt.show()\n"
   ]
  },
  {
   "cell_type": "code",
   "execution_count": 14,
   "metadata": {},
   "outputs": [
    {
     "data": {
      "image/png": "[encoded data removed]",
      "text/plain": [
       "<Figure size 432x288 with 1 Axes>"
      ]
     },
     "metadata": {
      "needs_background": "light"
     },
     "output_type": "display_data"
    }
   ],
   "source": [
    "plt.scatter(times_2d,heights_2d)\n",
    "for i in range(len(times_2d)):\n",
    "    mu = np.array([times_2d[i],heights_2d[i]])\n",
    "    cov = covariance_matrix\n",
    "    Function = generate_experiment_error_function(mu, cov)\n",
    "    xmin=-3*np.sqrt(covariance_matrix[0][0])+times_2d[i]\n",
    "    xmax=3*np.sqrt(covariance_matrix[0][0])+times_2d[i]\n",
    "    ymin=-3*np.sqrt(covariance_matrix[1][1])+heights_2d[i]\n",
    "    ymax=3*np.sqrt(covariance_matrix[1][1])+heights_2d[i]\n",
    "    X, Y = numpy.mgrid[xmin:xmax:100j, ymin:ymax:100j] #1000 x 1000 -> 1 million points\n",
    "    PointsToPlugIn = numpy.vstack([X.ravel(), Y.ravel()])\n",
    "    PointsToPlugInDataset = PointsToPlugIn.T\n",
    "    PlugInPointsCount = len(PointsToPlugInDataset)\n",
    "    FunctionResultValuesForGrid = numpy.zeros((PlugInPointsCount))\n",
    "    k = 0\n",
    "    while (k < PlugInPointsCount):\n",
    "        PointToPlugIn = PointsToPlugInDataset[k]\n",
    "        FunctionValueForPointToPlugIn = Function(PointToPlugIn)\n",
    "        FunctionResultValuesForGrid[k] = FunctionValueForPointToPlugIn\n",
    "        k = k + 1\n",
    "    Z = numpy.reshape(FunctionResultValuesForGrid, X.shape)\n",
    "    CS = plt.contour(X, Y, Z, 2,\n",
    "                             colors='k', # negative contours will be dashed by default\n",
    "                             )\n",
    "plt.xlabel('Time (Seconds)',fontsize=14)\n",
    "plt.ylabel('Height (Meters)',fontsize=14)\n",
    "plt.show()"
   ]
  },
  {
   "cell_type": "markdown",
   "metadata": {},
   "source": [
    "**Data Fitting:**\n",
    "=============="
   ]
  },
  {
   "cell_type": "code",
   "execution_count": 111,
   "metadata": {},
   "outputs": [
    {
     "name": "stdout",
     "output_type": "stream",
     "text": [
      "[49.43042124  9.76716178]\n"
     ]
    }
   ],
   "source": [
    "#Let's try and fit the data with a simple chi-square minimization\n",
    "    \n",
    "def chisquare(parameters,args):\n",
    "    #This function accepts a set of model parameters v and g\n",
    "        #and returns a chi square value, comparing with the \n",
    "        #times,observations,errors, and model provided in args\n",
    "    v,g=parameters\n",
    "    observed_times,observed_values,observed_errors,model_func=args\n",
    "    model_values=model_func(v,g,observed_times)\n",
    "    z = (observed_values - model_values) / observed_errors \n",
    "    chi2 = np.sum(z ** 2)\n",
    "    return(chi2)\n",
    "\n",
    "my_args=[my_data_1D['time'],my_data_1D['height'],my_data_1D['error'],my_model]\n",
    "result =  scipy.optimize.minimize(chisquare,[50,50],args=my_args,\n",
    "                                                  bounds=[(0,100),(0,100)],\n",
    "                                                  callback=callback)\n",
    "print(result.x)"
   ]
  },
  {
   "cell_type": "code",
   "execution_count": 125,
   "metadata": {},
   "outputs": [
    {
     "name": "stdout",
     "output_type": "stream",
     "text": [
      "[48.3388543  9.9756539]\n"
     ]
    }
   ],
   "source": [
    "#Now let's look at a drawback of the chi-square minimization.\n",
    "#    What if there are parameter degeneracies in the model,\n",
    "#    or some sort of local minimum in the chi-square?\n",
    "    \n",
    "    \n",
    "def chisquare(parameters,args):\n",
    "    #This function accepts a set of model parameters v and g\n",
    "        #and returns a chi square value, comparing with the \n",
    "        #times,observations,errors, and model provided in args\n",
    "    v,g=parameters\n",
    "    observed_times,observed_values,observed_errors,model_func=args\n",
    "    model_values=model_func(v,g,observed_times)\n",
    "    z = (observed_values - model_values) / observed_errors \n",
    "    chi2 = np.sum(z ** 2)\n",
    "    return(chi2)\n",
    "\n",
    "#This model has one of the parameters squared, so either -g or g will give\n",
    "#    the same result\n",
    "def my_bad_model(v,g,t):\n",
    "    return(v*t-.5*g**2*t**2)\n",
    "\n",
    "#Read in some data generated with this model. The parameters used were v=50,g=-10\n",
    "my_bad_data_1D=astropy.io.ascii.read(\"1D_Generated_Data_ChiProblem.astropydat\")\n",
    "\n",
    "#Try and fit the data with this model, using new bounds\n",
    "my_args=[my_bad_data_1D['time'],my_bad_data_1D['height'],my_bad_data_1D['error'],my_bad_model]\n",
    "result =  scipy.optimize.minimize(chisquare,[50,1],args=my_args,\n",
    "                                                  bounds=[(-100,100),(-100,100)],\n",
    "                                                  callback=callback)\n",
    "print(result.x)"
   ]
  },
  {
   "cell_type": "code",
   "execution_count": null,
   "metadata": {},
   "outputs": [],
   "source": []
  }
 ],
 "metadata": {
  "kernelspec": {
   "display_name": "Python 3",
   "language": "python",
   "name": "python3"
  },
  "language_info": {
   "codemirror_mode": {
    "name": "ipython",
    "version": 3
   },
   "file_extension": ".py",
   "mimetype": "text/x-python",
   "name": "python",
   "nbconvert_exporter": "python",
   "pygments_lexer": "ipython3",
   "version": "3.7.2"
  }
 },
 "nbformat": 4,
 "nbformat_minor": 2
}
