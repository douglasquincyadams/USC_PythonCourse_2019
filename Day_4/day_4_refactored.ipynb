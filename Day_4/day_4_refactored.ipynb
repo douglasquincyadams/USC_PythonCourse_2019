{
 "cells": [
  {
   "cell_type": "code",
   "execution_count": 11,
   "metadata": {},
   "outputs": [
    {
     "name": "stdout",
     "output_type": "stream",
     "text": [
      "done importing\n"
     ]
    }
   ],
   "source": [
    "import numpy as np\n",
    "import numpy,scipy,corner\n",
    "import nestle\n",
    "import astropy,warnings\n",
    "from scipy.interpolate import interp1d as interp\n",
    "from astropy.table import Table\n",
    "import matplotlib.pyplot as plt\n",
    "from scipy.stats import multivariate_normal as multi_gauss\n",
    "\n",
    "#---------------------------------------------------------------------\n",
    "\n",
    "import Library_GraphTwoDimensionDensityColorMap\n",
    "#---------------------------------------------------------------------\n",
    "warnings.simplefilter('ignore')\n",
    "print (\"done importing\")"
   ]
  },
  {
   "cell_type": "code",
   "execution_count": 19,
   "metadata": {},
   "outputs": [],
   "source": [
    "#Read the generated data from a file, and store as a python variable:\n",
    "my_data_1D = astropy.io.ascii.read( \"1D_Generated_Data.astropydat\" )\n",
    "#print( my_data_1D )\n",
    "\n",
    "#Read the generated data from a file, and store as a python variable:\n",
    "my_data_2D = astropy.io.ascii.read( \"2D_Generated_Data.astropydat\" )\n",
    "#print( my_data_2D )\n",
    "\n"
   ]
  },
  {
   "cell_type": "code",
   "execution_count": 31,
   "metadata": {},
   "outputs": [],
   "source": [
    "#The experimentalist gives us data, and the error in his/her observation of that data. \n",
    "#    Experimenalist should know and report the errors of their instrument\n",
    "#    In our case we are given the uncertainty in height measurment, or height&time measurment\n",
    "\n",
    "\n",
    "datapoint_count = len(my_data_1D['time'])\n",
    "\n",
    "#   (we have uncertainty in the same units as the height --> meters)\n",
    "measurement_uncertainty = 10\n",
    "errors=[measurement_uncertainty]*datapoint_count\n",
    "\n",
    "\n",
    "#Define the measurment error function which is something the experimentalist would give us.\n",
    "covariance_matrix = np.array(\n",
    "    [\n",
    "        [.58,   13.35],\n",
    "        [13.35, 501.77]\n",
    "    ])\n",
    "covariance_matrix_list = [covariance_matrix]*datapoint_count"
   ]
  },
  {
   "cell_type": "code",
   "execution_count": 32,
   "metadata": {},
   "outputs": [],
   "source": [
    "#SECRET\n",
    "#Set the variables for our model, and the model itself\n",
    "v = 50\n",
    "g = 9.8\n",
    "def my_model( v, g, t):\n",
    "    return v*t -.5*g*t**2\n",
    "\n"
   ]
  },
  {
   "cell_type": "code",
   "execution_count": 33,
   "metadata": {},
   "outputs": [],
   "source": [
    "#(SECRET)\n",
    "#Pick some times of which to observe the height\n",
    "times=np.linspace(.1,10,20) # measurement times\n",
    "\n",
    "\n",
    "#figure out the heights which are \"real\" for the given times above\n",
    "perfect_data=my_model(v,g,times)\n"
   ]
  },
  {
   "cell_type": "code",
   "execution_count": 34,
   "metadata": {
    "scrolled": true
   },
   "outputs": [],
   "source": [
    "#(SECRET)\n",
    "#Generate 1D uncertainty dataset\n",
    "#   By 1D, we mean that we have only error in the height measurement. \n",
    "#   We have NO time measurement error   \n",
    "\n",
    "\n",
    "\n",
    "#Introduce error into the \"perfect\" data using the experiment error\n",
    "heights=np.random.normal(perfect_data,errors)\n",
    "my_data_1D=Table([times,heights,errors],\n",
    "              names=('time','height','error'))\n",
    "\n",
    "#print( my_data_1D )\n",
    "\n",
    "#Write the generated data to a file on the disk of the computer\n",
    "astropy.io.ascii.write( my_data_1D, \"1D_Generated_Data.astropydat\" , overwrite = True )\n"
   ]
  },
  {
   "cell_type": "code",
   "execution_count": 35,
   "metadata": {},
   "outputs": [],
   "source": [
    "#(SECRET)\n",
    "#Generate 1D uncertainty dataset with a model that will not work with\n",
    "#   a simple chi-square minimization.\n",
    "#   By 1D, we mean that we have only error in the height measurement. \n",
    "#   We have NO time measurement error   .\n",
    "\n",
    "#Set the variables for our model, and the model itself\n",
    "bad_v = 50\n",
    "bad_g = -10\n",
    "def my_bad_model( v,g, t):\n",
    "    return v*t -.5*g**2*t**2\n",
    "\n",
    "#Generate \"perfect\" data with the bad model.\n",
    "perfect_bad_data=my_bad_model(bad_v,bad_g,times)\n",
    "#Introduce error into the \"perfect\" data using the experiment error\n",
    "heights_bad=np.random.normal(perfect_bad_data,errors)\n",
    "my_bad_data_1D=Table([times,heights_bad,errors],\n",
    "              names=('time','height','error'))\n",
    "\n",
    "#print( my_data_1D )\n",
    "\n",
    "#Write the generated data to a file on the disk of the computer\n",
    "astropy.io.ascii.write( my_bad_data_1D, \"1D_Generated_Data_ChiProblem.astropydat\" , overwrite = True )"
   ]
  },
  {
   "cell_type": "code",
   "execution_count": 36,
   "metadata": {},
   "outputs": [],
   "source": [
    "#(SECRET)\n",
    "#Generate 2D uncertainty dataset\n",
    "#   By 2D, we mean that we have only error in BOTH\n",
    "#      the height measurement  \n",
    "#      AND time measurement error \n",
    "#   The errors are not mutually exclusive. \n",
    "#   The errors can be thought of as DEPENDENT RANDOM VARIABLES\n",
    "\n",
    "\n",
    "covariance_matrices=[covariance_matrix]*len(perfect_data)\n",
    "\n",
    "#Use the measurment error function to take the perfect data, and mess it up\n",
    "times_2d=[]\n",
    "heights_2d=[]\n",
    "for i in range(len(perfect_data)):\n",
    "    t,f=np.random.multivariate_normal(\n",
    "                    mean=[times[i],perfect_data[i]],\n",
    "                    cov=covariance_matrix)\n",
    "    times_2d.append(t)\n",
    "    heights_2d.append(f)\n",
    "\n",
    "my_data_2D=Table([times_2d,heights_2d],names=('time','height'))\n",
    "\n",
    "#Write the generated data to a file on the disk of the computer\n",
    "astropy.io.ascii.write( my_data_2D, \"2D_Generated_Data.astropydat\", overwrite = True )\n",
    "\n",
    "\n",
    "\n"
   ]
  },
  {
   "cell_type": "code",
   "execution_count": 37,
   "metadata": {},
   "outputs": [],
   "source": [
    "def generate_experiment_error_function(mu, cov):\n",
    "    def experiment_error_function(Point):\n",
    "        x = Point\n",
    "        return multi_gauss.pdf(x, mu, cov)\n",
    "    return experiment_error_function"
   ]
  },
  {
   "cell_type": "markdown",
   "metadata": {},
   "source": [
    "**Data Plotting**\n",
    "=============="
   ]
  },
  {
   "cell_type": "code",
   "execution_count": 38,
   "metadata": {},
   "outputs": [
    {
     "data": {
      "image/png": "[encoded data removed]",
      "text/plain": [
       "<Figure size 432x288 with 1 Axes>"
      ]
     },
     "metadata": {
      "needs_background": "light"
     },
     "output_type": "display_data"
    }
   ],
   "source": [
    "#Plot the 1D data\n",
    "plt.errorbar( my_data_1D['time'], my_data_1D['height'], yerr =  my_data_1D['error'], fmt = \".\")\n",
    "plt.ylabel('Height (Meters)',fontsize=14)\n",
    "plt.xlabel('Time (Seconds)',fontsize=14)\n",
    "plt.show()\n"
   ]
  },
  {
   "cell_type": "code",
   "execution_count": 39,
   "metadata": {},
   "outputs": [
    {
     "data": {
      "image/png": "[encoded data removed]",
      "text/plain": [
       "<Figure size 432x288 with 1 Axes>"
      ]
     },
     "metadata": {
      "needs_background": "light"
     },
     "output_type": "display_data"
    }
   ],
   "source": [
    "plt.scatter(times_2d,heights_2d)\n",
    "for i in range(len(times_2d)):\n",
    "    mu = np.array([times_2d[i],heights_2d[i]])\n",
    "    cov = covariance_matrix\n",
    "    Function = generate_experiment_error_function(mu, cov)\n",
    "    xmin=-3*np.sqrt(covariance_matrix[0][0])+times_2d[i]\n",
    "    xmax=3*np.sqrt(covariance_matrix[0][0])+times_2d[i]\n",
    "    ymin=-3*np.sqrt(covariance_matrix[1][1])+heights_2d[i]\n",
    "    ymax=3*np.sqrt(covariance_matrix[1][1])+heights_2d[i]\n",
    "    X, Y = numpy.mgrid[xmin:xmax:100j, ymin:ymax:100j] #1000 x 1000 -> 1 million points\n",
    "    PointsToPlugIn = numpy.vstack([X.ravel(), Y.ravel()])\n",
    "    PointsToPlugInDataset = PointsToPlugIn.T\n",
    "    PlugInPointsCount = len(PointsToPlugInDataset)\n",
    "    FunctionResultValuesForGrid = numpy.zeros((PlugInPointsCount))\n",
    "    k = 0\n",
    "    while (k < PlugInPointsCount):\n",
    "        PointToPlugIn = PointsToPlugInDataset[k]\n",
    "        FunctionValueForPointToPlugIn = Function(PointToPlugIn)\n",
    "        FunctionResultValuesForGrid[k] = FunctionValueForPointToPlugIn\n",
    "        k = k + 1\n",
    "    Z = numpy.reshape(FunctionResultValuesForGrid, X.shape)\n",
    "    CS = plt.contour(X, Y, Z, 2,\n",
    "                             colors='k', # negative contours will be dashed by default\n",
    "                             )\n",
    "plt.xlabel('Time (Seconds)',fontsize=14)\n",
    "plt.ylabel('Height (Meters)',fontsize=14)\n",
    "plt.show()"
   ]
  },
  {
   "cell_type": "markdown",
   "metadata": {},
   "source": [
    "**Data Fitting: Chi-Square Minimization**\n",
    "==============================="
   ]
  },
  {
   "cell_type": "code",
   "execution_count": 43,
   "metadata": {},
   "outputs": [
    {
     "name": "stdout",
     "output_type": "stream",
     "text": [
      "[51.87006844 10.37073644]\n"
     ]
    }
   ],
   "source": [
    "#Let's try and fit the data with a simple chi-square minimization\n",
    "    \n",
    "def chisquare(parameters,args):\n",
    "    #This function accepts a set of model parameters v and g\n",
    "        #and returns a chi square value, comparing with the \n",
    "        #times,observations,errors, and model provided in args\n",
    "    v,g=parameters\n",
    "    observed_times,observed_values,observed_errors,model_func=args\n",
    "    model_values=model_func(v,g,observed_times)\n",
    "    z = (observed_values - model_values) / observed_errors \n",
    "    chi2 = np.sum(z ** 2)\n",
    "    return(chi2)\n",
    "\n",
    "my_args=[my_data_1D['time'],my_data_1D['height'],my_data_1D['error'],my_model]\n",
    "result =  scipy.optimize.minimize(\n",
    "    chisquare,[50,50],\n",
    "    args=my_args,\n",
    "    bounds=[(0,100),(0,100)] \n",
    "    )\n",
    "print(result.x)"
   ]
  },
  {
   "cell_type": "code",
   "execution_count": null,
   "metadata": {},
   "outputs": [],
   "source": [
    "#Now let's look at a drawback of the chi-square minimization.\n",
    "#    What if there are parameter degeneracies in the model,\n",
    "#    or some sort of local minimum in the chi-square?\n",
    "    \n",
    "v_tries = []\n",
    "g_tries = []\n",
    "chi_tries=[]\n",
    "def callback(x):\n",
    "    v_tries.append(x[0])\n",
    "    g_tries.append(x[1])\n",
    "    chi_tries.append(chisquare(x,my_args))\n",
    "    \n",
    "def chisquare(parameters,args):\n",
    "    #This function accepts a set of model parameters v and g\n",
    "        #and returns a chi square value, comparing with the \n",
    "        #times,observations,errors, and model provided in args\n",
    "    v,g=parameters\n",
    "    observed_times,observed_values,observed_errors,model_func=args\n",
    "    model_values=model_func(v,g,observed_times)\n",
    "    z = (observed_values - model_values) / observed_errors \n",
    "    chi2 = np.sum(z ** 2)\n",
    "    return(chi2)\n",
    "\n",
    "#This model has one of the parameters squared, so either -g or g will give\n",
    "#    the same result\n",
    "def my_bad_model(v,g,t):\n",
    "    return(v*t-.5*g**2*t**2)\n",
    "\n",
    "#Read in some data generated with this model. The parameters used were v=50,g=-10\n",
    "my_bad_data_1D=astropy.io.ascii.read(\"1D_Generated_Data_ChiProblem.astropydat\")\n",
    "\n",
    "#Try and fit the data with this model, using new bounds\n",
    "my_args=[my_bad_data_1D['time'],my_bad_data_1D['height'],my_bad_data_1D['error'],my_bad_model]\n",
    "result =  scipy.optimize.minimize(chisquare,[50,5],args=my_args,\n",
    "                                                  bounds=[(-100,100),(-20,20)],\n",
    "                                                  callback=callback)\n",
    "print(result.x)\n",
    "plt.plot(v_tries,chi_tries)\n",
    "plt.show()\n",
    "plt.plot(g_tries,chi_tries)\n",
    "plt.show()"
   ]
  },
  {
   "cell_type": "markdown",
   "metadata": {},
   "source": [
    "**Data Fitting: Nested Sampling**\n",
    "========================="
   ]
  },
  {
   "cell_type": "code",
   "execution_count": null,
   "metadata": {},
   "outputs": [],
   "source": [
    "#Let's see if we can find a way to fit a multi-dimensional model\n",
    "#    to some data and avoid local minimum problems seen in the\n",
    "#    previous section. \n",
    "\n",
    "\n",
    "def bounds_to_ppf(bounds):\n",
    "    ppfs={}\n",
    "    for key in bounds.keys():\n",
    "        ppfs[key] = scipy.interpolate.interp1d([0.,1.],bounds[key])\n",
    "    return ppfs\n",
    "\n",
    "def prior_transform(nested_parameters):\n",
    "        actual_parameters = np.empty(n_varied_parameter_dim, dtype=np.float)\n",
    "        for i in range(n_varied_parameter_dim):\n",
    "            actual_parameters[i] = ppfs[varied_param_names[i]](nested_parameters[i])\n",
    "        return actual_parameters\n",
    "\n",
    "def chisquare(observed_values,expected_values,errors):\n",
    "    z = (observed_values - expected_values) / errors \n",
    "    chi2 = np.sum(z ** 2)\n",
    "    return(chi2)\n",
    "    \n",
    "def likelihood_function(parameters):\n",
    "        return -0.5 * chisquare(my_data_1D['height'],\n",
    "                                np.array([my_model(*np.append(parameters,[x])) for x in my_data_1D['time']]),\n",
    "                                my_data_1D['error'])\n",
    "    \n",
    "varied_param_names = ['v','g']\n",
    "parameter_bounds={'v':(0,100),'g':(0,20)}\n",
    "n_varied_parameter_dim = len(varied_param_names) \n",
    "ppfs=bounds_to_ppf(parameter_bounds)\n",
    "res = nestle.sample(likelihood_function, prior_transform, n_varied_parameter_dim,\n",
    "                        npoints=1000, maxiter=None,maxcall=None)\n",
    "vparameters, cov = nestle.mean_and_cov(res.samples, res.weights)\n",
    "print(varied_param_names,vparameters)\n",
    "print(varied_param_names,cov)"
   ]
  },
  {
   "cell_type": "code",
   "execution_count": null,
   "metadata": {},
   "outputs": [],
   "source": [
    "fig = corner.corner(res.samples, labels=[\"$v$\", \"$g$\"],truths=[v,g],quantiles=(0.16, 0.84),levels=(1-np.exp(-0.5),))\n",
    "plt.show()"
   ]
  },
  {
   "cell_type": "code",
   "execution_count": null,
   "metadata": {},
   "outputs": [],
   "source": [
    "#This model has one of the parameters squared, so either -g or g will give\n",
    "#    the same result\n",
    "\n",
    "def bad_model_likelihood_function(parameters):\n",
    "        return -0.5 * chisquare(my_bad_data_1D['height'],\n",
    "                                np.array([my_bad_model(*np.append(parameters,[x])) for x in my_bad_data_1D['time']]),\n",
    "                                my_bad_data_1D['error'])\n",
    "\n",
    "\n",
    "def my_bad_model(v,g,t):\n",
    "    return(v*t-.5*g**2*t**2)\n",
    "\n",
    "#Read in some data generated with this model. The parameters used were v=50,g=-10\n",
    "my_bad_data_1D=astropy.io.ascii.read(\"1D_Generated_Data_ChiProblem.astropydat\")\n",
    "varied_param_names = ['v','g']\n",
    "bad_parameter_bounds={'v':(0,100),'g':(-20,20)}\n",
    "n_varied_parameter_dim = len(varied_param_names) \n",
    "ppfs=bounds_to_ppf(bad_parameter_bounds)\n",
    "res_bad = nestle.sample(bad_model_likelihood_function, prior_transform, n_varied_parameter_dim,\n",
    "                        npoints=1000, maxiter=10000,maxcall=100000)\n",
    "\n"
   ]
  },
  {
   "cell_type": "code",
   "execution_count": null,
   "metadata": {},
   "outputs": [],
   "source": [
    "bad_vparameters, bad_cov = nestle.mean_and_cov(res_bad.samples, res_bad.weights)\n",
    "print(varied_param_names,bad_vparameters)\n",
    "print(varied_param_names,bad_cov)\n",
    "fig = corner.corner(res_bad.samples, labels=[\"$v$\", \"$g$\"],quantiles=(0.16, 0.84),levels=(1-np.exp(-0.5),),\n",
    "                      truths=[bad_v, bad_g])\n",
    "plt.show()"
   ]
  },
  {
   "cell_type": "markdown",
   "metadata": {},
   "source": [
    "**Choosing the Correct Likelihood Function: 1D Case**\n",
    "=========================================="
   ]
  },
  {
   "cell_type": "code",
   "execution_count": null,
   "metadata": {},
   "outputs": [],
   "source": [
    "def single_datapoint_likelihood_function(t1,f1,ft,sigma):\n",
    "    constant=1./np.sqrt(2*np.pi*sigma)\n",
    "    gauss=constant*np.exp(-(f1-ft)**2./(2.*sigma**2.))\n",
    "    return(gauss)\n",
    "    \n",
    "def multiple_datapoint_likelihood_function(obs_times,obs_values,obs_sigmas,model,parameters):\n",
    "    mod_values=np.array([model(*np.append(parameters,[x])) for x in obs_times])\n",
    "    result=np.product(scipy.stats.norm.pdf(obs_values,loc=mod_values,scale=obs_sigmas))\n",
    "    return(result)\n",
    "\n",
    "def correct_loglikelihood(parameters):\n",
    "    return(np.log(multiple_datapoint_likelihood_function(my_data_1D['time'],\n",
    "                                my_data_1D['height'],my_data_1D['error'],my_model,parameters)))\n",
    "\n",
    "varied_param_names = ['v','g']\n",
    "parameter_bounds={'v':(0,100),'g':(0,20)}\n",
    "n_varied_parameter_dim = len(varied_param_names) \n",
    "ppfs=bounds_to_ppf(parameter_bounds)\n",
    "correct_res = nestle.sample(correct_loglikelihood, prior_transform, n_varied_parameter_dim,\n",
    "                        npoints=10000, maxiter=None,maxcall=None)\n"
   ]
  },
  {
   "cell_type": "code",
   "execution_count": null,
   "metadata": {},
   "outputs": [],
   "source": [
    "correct_vparameters, correct_cov = nestle.mean_and_cov(correct_res.samples, correct_res.weights)\n",
    "print(varied_param_names,correct_vparameters)\n",
    "print(varied_param_names,correct_cov)\n",
    "fig = corner.corner(correct_res.samples, labels=[\"$v$\", \"$g$\"],quantiles=(0.16, 0.84),levels=(1-np.exp(-0.5),),\n",
    "                      truths=[v, g])\n",
    "plt.show()"
   ]
  },
  {
   "cell_type": "code",
   "execution_count": null,
   "metadata": {},
   "outputs": [],
   "source": [
    "def multiple_2d_datapoint_likelihood_function(t1s,f1s,sigmas,parameters):\n",
    "    result=1.\n",
    "    for (t1,f1,sigma) in zip(t1s,f1s,sigmas):\n",
    "        sum_2d_gauss=0.\n",
    "        curve_samples=np.linspace(t1-3*np.sqrt(sigma[0][0]),t1+3*np.sqrt(sigma[0][0]),10)\n",
    "        for t_sample in curve_samples:\n",
    "            f_sample=my_model(*np.append(parameters,[t_sample]))\n",
    "            mu=np.array([t_sample,f_sample])\n",
    "            x=np.array([t1,f1])\n",
    "            sum_2d_gauss+=(multi_gauss.pdf(x,mu,sigma)/len(curve_samples))\n",
    "        \n",
    "        result*=sum_2d_gauss\n",
    "    return(result)\n",
    "\n",
    "def correct_2d_loglikelihood(parameters):\n",
    "    likelihood=np.log(multiple_2d_datapoint_likelihood_function(my_data_2D['time'],\n",
    "                            my_data_2D['height'],\n",
    "                            covariance_matrices,parameters))\n",
    "    \n",
    "    return(likelihood)\n",
    "\n",
    "varied_param_names = ['v','g']\n",
    "parameter_bounds={'v':(0,100),'g':(0,20)}\n",
    "n_varied_parameter_dim = len(varied_param_names) \n",
    "ppfs=bounds_to_ppf(parameter_bounds)\n",
    "correct_2d_res = nestle.sample(correct_loglikelihood, prior_transform, n_varied_parameter_dim,\n",
    "                        npoints=1000, maxiter=None,maxcall=None)"
   ]
  },
  {
   "cell_type": "code",
   "execution_count": null,
   "metadata": {},
   "outputs": [],
   "source": [
    "correct_2d_vparameters, correct_2d_cov = nestle.mean_and_cov(correct_2d_res.samples, correct_2d_res.weights)\n",
    "print(varied_param_names,correct_2d_vparameters)\n",
    "print(varied_param_names,correct_2d_cov)\n",
    "fig = corner.corner(correct_2d_res.samples, labels=[\"$v$\", \"$g$\"],quantiles=(0.16, 0.84),levels=(1-np.exp(-0.5),),\n",
    "                      truths=[v, g])\n",
    "plt.show()"
   ]
  },
  {
   "cell_type": "code",
   "execution_count": null,
   "metadata": {},
   "outputs": [],
   "source": [
    "plt.scatter(my_data_2D['time'],my_data_2D['height'])\n",
    "for i in range(len(my_data_2D['time'])):\n",
    "    mu = np.array([my_data_2D['time'][i],my_data_2D['height'][i]])\n",
    "    cov = covariance_matrix\n",
    "    Function = generate_experiment_error_function(mu, cov)\n",
    "    xmin=-3*np.sqrt(covariance_matrix[0][0])+times_2d[i]\n",
    "    xmax=3*np.sqrt(covariance_matrix[0][0])+times_2d[i]\n",
    "    ymin=-3*np.sqrt(covariance_matrix[1][1])+heights_2d[i]\n",
    "    ymax=3*np.sqrt(covariance_matrix[1][1])+heights_2d[i]\n",
    "    X, Y = numpy.mgrid[xmin:xmax:100j, ymin:ymax:100j] #1000 x 1000 -> 1 million points\n",
    "    PointsToPlugIn = numpy.vstack([X.ravel(), Y.ravel()])\n",
    "    PointsToPlugInDataset = PointsToPlugIn.T\n",
    "    PlugInPointsCount = len(PointsToPlugInDataset)\n",
    "    FunctionResultValuesForGrid = numpy.zeros((PlugInPointsCount))\n",
    "    k = 0\n",
    "    while (k < PlugInPointsCount):\n",
    "        PointToPlugIn = PointsToPlugInDataset[k]\n",
    "        FunctionValueForPointToPlugIn = Function(PointToPlugIn)\n",
    "        FunctionResultValuesForGrid[k] = FunctionValueForPointToPlugIn\n",
    "        k = k + 1\n",
    "    Z = numpy.reshape(FunctionResultValuesForGrid, X.shape)\n",
    "    CS = plt.contour(X, Y, Z, 2,\n",
    "                             colors='k', # negative contours will be dashed by default\n",
    "                             )\n",
    "plt.plot(my_data_2D['time'],my_model(correct_2d_vparameters[0],correct_2d_vparameters[1],\n",
    "                                  my_data_2D['time']))\n",
    "plt.show()\n"
   ]
  },
  {
   "cell_type": "code",
   "execution_count": null,
   "metadata": {},
   "outputs": [],
   "source": []
  },
  {
   "cell_type": "code",
   "execution_count": null,
   "metadata": {},
   "outputs": [],
   "source": []
  }
 ],
 "metadata": {
  "kernelspec": {
   "display_name": "Python 3",
   "language": "python",
   "name": "python3"
  },
  "language_info": {
   "codemirror_mode": {
    "name": "ipython",
    "version": 3
   },
   "file_extension": ".py",
   "mimetype": "text/x-python",
   "name": "python",
   "nbconvert_exporter": "python",
   "pygments_lexer": "ipython3",
   "version": "3.7.3"
  }
 },
 "nbformat": 4,
 "nbformat_minor": 2
}
