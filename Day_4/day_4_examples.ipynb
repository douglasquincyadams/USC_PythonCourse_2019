{
 "cells": [
  {
   "cell_type": "code",
   "execution_count": 79,
   "metadata": {},
   "outputs": [],
   "source": [
    "import numpy as np\n",
    "import six,nestle\n",
    "from sncosmo.utils import Result, Interp1D,ppf\n",
    "from scipy.interpolate import interp1d as interp\n",
    "from astropy.table import Table\n",
    "import matplotlib.pyplot as plt"
   ]
  },
  {
   "cell_type": "code",
   "execution_count": 158,
   "metadata": {},
   "outputs": [],
   "source": [
    "v=50.\n",
    "g=9.8\n",
    "measurement_uncertainty=.2#1 percent\n",
    "times=np.linspace(.1,10,20)\n",
    "my_model= lambda v,g,t:v*t-.5*g*t**2\n",
    "perfect_data=v*times-.5*g*times**2\n",
    "errors=np.ones(len(perfect_data))*5#measurement_uncertainty*perfect_data\n",
    "heights=np.random.normal(perfect_data,errors)\n",
    "errors_t=np.ones(len(perfect_data))*.5\n",
    "my_data=Table([times,heights,errors,errors_t],names=('time','height','error','error_t'))"
   ]
  },
  {
   "cell_type": "code",
   "execution_count": 141,
   "metadata": {},
   "outputs": [],
   "source": [
    "def bounds_and_priors_to_ppf(bounds,priors=None):\n",
    "    ppfs={}\n",
    "    for key, val in six.iteritems(bounds):\n",
    "        if key in ppfs:\n",
    "            continue  # ppfs take priority over bounds/priors\n",
    "        a, b = val\n",
    "        if priors is not None and key in priors:\n",
    "            # solve ppf at discrete points and return interpolating\n",
    "            # function\n",
    "            x_samples = np.linspace(0., 1., 101)\n",
    "            ppf_samples = ppf(priors[key], x_samples, a, b)\n",
    "            f = Interp1D(0., 1., ppf_samples)\n",
    "        else:\n",
    "            f = Interp1D(0., 1., np.array([a, b]))\n",
    "        ppfs[key] = f\n",
    "    return ppfs\n",
    "\n",
    "def prior_transform(u):\n",
    "        d = {}\n",
    "        for i in range(npdim):\n",
    "            d[iparam_names[i]] = ppflist[i](u[i])\n",
    "        v = np.empty(ndim, dtype=np.float)\n",
    "        for i in range(ndim):\n",
    "            key = vparam_names[i]\n",
    "            v[i] = d[key]\n",
    "        return v\n",
    "\n",
    "def chisquare(observed_values,expected_values,errors):\n",
    "    z = (observed_values - expected_values) / errors \n",
    "    chi2 = np.sum(z ** 2)\n",
    "    return(chi2)\n",
    "\n",
    "def loglike(parameters):\n",
    "        return -0.5 * chisquare(my_data['height'],\n",
    "                                my_model(parameters[0],parameters[1],my_data['time']),\n",
    "                                my_data['error'])\n",
    "    \n",
    "def get_marginal_pdfs( vparam_names,weights,samples, bounds,nbins=51, verbose=True ):\n",
    "    \"\"\" Given the results <res> from a nested sampling chain, determine the\n",
    "    marginalized posterior probability density functions for each of the\n",
    "    parameters in the model.\n",
    "    :param res:  the results of a nestlc run\n",
    "    :param nbins: number of bins (steps along the x axis) for sampling\n",
    "       each parameter's marginalized posterior probability\n",
    "    :return: a dict with an entry for each parameter, giving a 2-tuple containing\n",
    "       NDarrays of length nbins.  The first array in each pair gives the parameter\n",
    "       value that defines the left edge of each bin along the parameter axis.\n",
    "       The second array gives the posterior probability density integrated\n",
    "       across that bin.\n",
    "    \"\"\"\n",
    "\n",
    "\n",
    "    pdfdict = {}\n",
    "    for param in vparam_names :\n",
    "        ipar = vparam_names.index( param )\n",
    "        paramvals = samples[:,ipar]\n",
    "        \n",
    "        if nbins>1:\n",
    "            if param in bounds :\n",
    "                parvalmin, parvalmax = bounds[param]\n",
    "            else :\n",
    "                parvalmin, parvalmax = 0.99*paramvals.min(), 1.01*paramvals.max()\n",
    "            parambins = np.linspace( parvalmin, parvalmax, nbins, endpoint=True ).flatten()\n",
    "            binindices = np.digitize( paramvals, parambins )\n",
    "\n",
    "            # we estimate the marginalized pdf by summing the weights of all points in the bin,\n",
    "            # where the weight of each point is the prior volume at that point times the\n",
    "            # likelihood, divided by the total evidence\n",
    "            pdf = np.array( [ weights[np.where( binindices==ibin )].sum() for ibin in range(len(parambins)) ] )\n",
    "        else :\n",
    "            parambins = None\n",
    "            pdf = None\n",
    "\n",
    "\n",
    "        mean = (weights  * samples[:,ipar]).sum()\n",
    "        #print(samples[:,ipar]-mean)\n",
    "        #print(weights)\n",
    "        std = np.sqrt( (weights * (samples[:,ipar]-mean)**2 ).sum() )\n",
    "\n",
    "        pdfdict[param] = (parambins,pdf,mean,std,res.logz)\n",
    "    return(pdfdict)\n",
    "\n",
    "def plot_marginal_pdfs(vparam_names,weights,samples, bounds, nbins=101, **kwargs):\n",
    "    \"\"\" plot the results of a classification run\n",
    "    :return:\n",
    "    \"\"\"\n",
    "    from matplotlib import pyplot as pl\n",
    "    import numpy as np\n",
    "\n",
    "    nparam = len(vparam_names)\n",
    "    # nrow = np.sqrt( nparam )\n",
    "    # ncol = nparam / nrow + 1\n",
    "    nrow, ncol = 1, nparam\n",
    "\n",
    "    pdfdict = get_marginal_pdfs(vparam_names,weights,samples, bounds, nbins)\n",
    "\n",
    "    fig = plt.gcf()\n",
    "    for parname in vparam_names :\n",
    "        iax = vparam_names.index( parname )+1\n",
    "        ax = fig.add_subplot( nrow, ncol, iax )\n",
    "\n",
    "        parval, pdf, mean, std, evd = pdfdict[parname]\n",
    "        ax.plot(  parval, pdf, **kwargs )\n",
    "        if np.abs(std)>=0.1:\n",
    "            ax.text( 0.95, 0.95, '%s  %.1f +- %.1f'%( parname, np.round(mean,1), np.round(std,1)),\n",
    "                     ha='right',va='top',transform=ax.transAxes )\n",
    "        elif np.abs(std)>=0.01:\n",
    "            ax.text( 0.95, 0.95, '%s  %.2f +- %.2f'%( parname, np.round(mean,2), np.round(std,2)),\n",
    "                     ha='right',va='top',transform=ax.transAxes )\n",
    "        elif np.abs(std)>=0.001:\n",
    "            ax.text( 0.95, 0.95, '%s  %.3f +- %.3f'%( parname, np.round(mean,3), np.round(std,3)),\n",
    "                     ha='right',va='top',transform=ax.transAxes )\n",
    "        else :\n",
    "            ax.text( 0.95, 0.95, '%s  %.3e +- %.3e'%( parname, mean, std),\n",
    "                     ha='right',va='top',transform=ax.transAxes )\n",
    "\n",
    "    plt.draw()"
   ]
  },
  {
   "cell_type": "code",
   "execution_count": 156,
   "metadata": {},
   "outputs": [],
   "source": [
    "def single_datapoint_likelihood_function(t1,f1,ft,sigma):\n",
    "    constant=1./np.sqrt(2*np.pi*sigma)\n",
    "    gauss=constant*np.exp(-(f1-ft)**2./(2.*sigma**2.))\n",
    "    return(gauss)\n",
    "    \n",
    "def multiple_datapoint_likelihood_function(t1s,f1s,fts,sigmas):\n",
    "    result=1.\n",
    "    for (t1,f1,ft,sigma) in zip(t1s,f1s,fts,sigmas):\n",
    "        result*=single_datapoint_likelihood_function(t1,f1,ft,sigma)\n",
    "        \n",
    "    return(result)\n",
    "\n",
    "def single_2d_datapoint_likelihood_function(t1,f1,ft,sigma):\n",
    "    constant=1./np.sqrt(2*(np.pi**2.)*sigma)\n",
    "    gauss=constant*np.exp(-.5*np.transpose(f1-ft)*np.linalg.inv(sigma)*(f1-ft))\n",
    "    return(gauss)\n",
    "    \n",
    "def multiple_2d_datapoint_likelihood_function(t1s,f1s,fts,sigmas):\n",
    "    result=1.\n",
    "    for (t1,f1,ft,sigma) in zip(t1s,f1s,fts,sigmas):\n",
    "        result*=single_datapoint_likelihood_function(t1,f1,ft,sigma)\n",
    "        \n",
    "    return(result)\n",
    "\n",
    "def correct_loglikelihood(parameters):\n",
    "    modeled=np.array([my_model(*np.append(parameters,[x])) for x in my_data['time']])\n",
    "    observed=my_data['height']\n",
    "    errors=my_data['error']\n",
    "    return(np.log(multiple_datapoint_likelihood_function(my_data['time'],\n",
    "                                observed,modeled,errors)))\n",
    "    \n",
    "def make_2d_likelihood(parameters):\n",
    "    modeled=np.array([my_model(*np.append(parameters,[x])) for x in my_data['time']])\n",
    "    observed=my_data['height']\n",
    "    "
   ]
  },
  {
   "cell_type": "code",
   "execution_count": 157,
   "metadata": {},
   "outputs": [
    {
     "name": "stderr",
     "output_type": "stream",
     "text": [
      "/Users/jpierel/anaconda3/envs/sntd_test3/lib/python3.7/site-packages/ipykernel_launcher.py:19: RuntimeWarning: divide by zero encountered in log\n"
     ]
    },
    {
     "name": "stdout",
     "output_type": "stream",
     "text": [
      "['v', 'g'] [48.63545615  9.56169478]\n",
      "['v', 'g'] [[0.58844394 0.14358383]\n",
      " [0.14358383 0.03739856]]\n"
     ]
    },
    {
     "data": {
      "image/png": "[encoded data removed]",
      "text/plain": [
       "<Figure size 432x288 with 2 Axes>"
      ]
     },
     "metadata": {
      "needs_background": "light"
     },
     "output_type": "display_data"
    }
   ],
   "source": [
    "npoints=1000\n",
    "method='single'\n",
    "maxiter=None\n",
    "maxcall=None\n",
    "rstate=None\n",
    "verbose=False\n",
    "vparam_names = ['v','g']\n",
    "bounds={'v':(0,100),'g':(0,20)}\n",
    "ppfs=bounds_and_priors_to_ppf(bounds)\n",
    "iparam_names = [key for key in vparam_names if key in ppfs]\n",
    "ppflist = [ppfs[key] for key in iparam_names]\n",
    "npdim = len(iparam_names)  # length of u\n",
    "ndim = len(vparam_names)  # length of v\n",
    "res = nestle.sample(correct_loglikelihood, prior_transform, ndim, npdim=npdim,\n",
    "                        npoints=npoints, method=method, maxiter=maxiter,\n",
    "                        maxcall=maxcall, rstate=rstate,\n",
    "                        callback=(nestle.print_progress if verbose else None))\n",
    "\n",
    "vparameters, cov = nestle.mean_and_cov(res.samples, res.weights)\n",
    "print(vparam_names,vparameters)\n",
    "print(vparam_names,cov)\n",
    "plot_marginal_pdfs(vparam_names,res.weights,res.samples,bounds,nbins=101)"
   ]
  },
  {
   "cell_type": "code",
   "execution_count": null,
   "metadata": {},
   "outputs": [],
   "source": [
    "def plot_countour(x,y,z):\n",
    "    # define grid.\n",
    "    xi = np.linspace(-2.1, 2.1, 100)\n",
    "    yi = np.linspace(-2.1, 2.1, 100)\n",
    "    ## grid the data.\n",
    "    zi = griddata((x, y), z, (xi[None,:], yi[:,None]), method='cubic')\n",
    "    levels = [0.2, 0.4, 0.6, 0.8, 1.0]\n",
    "    # contour the gridded data, plotting dots at the randomly spaced data points.\n",
    "    CS = plt.contour(xi,yi,zi,len(levels),linewidths=0.5,colors='k', levels=levels)\n",
    "    #CS = plt.contourf(xi,yi,zi,15,cmap=plt.cm.jet)\n",
    "    CS = plt.contourf(xi,yi,zi,len(levels),cmap=cm.Greys_r, levels=levels)\n",
    "    plt.colorbar() # draw colorbar\n",
    "    # plot data points.\n",
    "    # plt.scatter(x, y, marker='o', c='b', s=5)\n",
    "    plt.xlim(-2, 2)\n",
    "    plt.ylim(-2, 2)\n",
    "    plt.title('griddata test (%d points)' % npts)\n",
    "    plt.show()"
   ]
  },
  {
   "cell_type": "code",
   "execution_count": 160,
   "metadata": {},
   "outputs": [
    {
     "data": {
      "text/plain": [
       "[<matplotlib.lines.Line2D at 0x1a1dc392b0>]"
      ]
     },
     "execution_count": 160,
     "metadata": {},
     "output_type": "execute_result"
    },
    {
     "data": {
      "image/png": "[encoded data removed]",
      "text/plain": [
       "<Figure size 432x288 with 1 Axes>"
      ]
     },
     "metadata": {
      "needs_background": "light"
     },
     "output_type": "display_data"
    }
   ],
   "source": [
    "plt.errorbar(my_data['time'],my_data['height'],xerr=my_data['error_t'],\n",
    "             yerr=my_data['error'],fmt='.')\n",
    "#plt.errorbar(my_data['time'],perfect_data,yerr=my_data['error'],fmt='.')\n",
    "plt.plot(my_data['time'],my_model(vparameters[0],vparameters[1],my_data['time']))"
   ]
  },
  {
   "cell_type": "code",
   "execution_count": 139,
   "metadata": {},
   "outputs": [
    {
     "data": {
      "text/plain": [
       "<function numpy.product(*args, **kwargs)>"
      ]
     },
     "execution_count": 139,
     "metadata": {},
     "output_type": "execute_result"
    }
   ],
   "source": [
    "np.product"
   ]
  },
  {
   "cell_type": "code",
   "execution_count": 147,
   "metadata": {},
   "outputs": [
    {
     "data": {
      "text/plain": [
       "0.5"
      ]
     },
     "execution_count": 147,
     "metadata": {},
     "output_type": "execute_result"
    }
   ],
   "source": [
    "temp=[1,1,1]\n",
    "my_model(*temp)"
   ]
  },
  {
   "cell_type": "code",
   "execution_count": null,
   "metadata": {},
   "outputs": [],
   "source": []
  }
 ],
 "metadata": {
  "kernelspec": {
   "display_name": "Python 3",
   "language": "python",
   "name": "python3"
  },
  "language_info": {
   "codemirror_mode": {
    "name": "ipython",
    "version": 3
   },
   "file_extension": ".py",
   "mimetype": "text/x-python",
   "name": "python",
   "nbconvert_exporter": "python",
   "pygments_lexer": "ipython3",
   "version": "3.7.2"
  }
 },
 "nbformat": 4,
 "nbformat_minor": 2
}
