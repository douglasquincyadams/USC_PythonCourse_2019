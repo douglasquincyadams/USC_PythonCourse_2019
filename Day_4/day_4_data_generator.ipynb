{
 "cells": [
  {
   "cell_type": "code",
   "execution_count": 1,
   "metadata": {},
   "outputs": [
    {
     "name": "stdout",
     "output_type": "stream",
     "text": [
      "done importing\n"
     ]
    }
   ],
   "source": [
    "import numpy as np\n",
    "import numpy,scipy,corner\n",
    "import nestle\n",
    "import astropy,warnings\n",
    "from scipy.interpolate import interp1d as interp\n",
    "from astropy.table import Table\n",
    "import matplotlib.pyplot as plt\n",
    "from scipy.stats import multivariate_normal as multi_gauss\n",
    "#---------------------------------------------------------------------\n",
    "import Library_GraphTwoDimensionDensityColorMap\n",
    "#---------------------------------------------------------------------\n",
    "warnings.simplefilter('ignore')\n",
    "print (\"done importing\")"
   ]
  },
  {
   "cell_type": "markdown",
   "metadata": {},
   "source": [
    "**Generate a set of true Datapoints**\n",
    "==\n"
   ]
  },
  {
   "cell_type": "code",
   "execution_count": 2,
   "metadata": {},
   "outputs": [],
   "source": [
    "#Set the variables for the 'real' model\n",
    "v = 50\n",
    "g = 9.8\n",
    "def my_model( v, g, t):\n",
    "    return v*t -.5*g*t**2"
   ]
  },
  {
   "cell_type": "code",
   "execution_count": 9,
   "metadata": {},
   "outputs": [],
   "source": [
    "#Pick some times of which to observe the height\n",
    "times=np.linspace(.1,10,20) # measurement times\n",
    "\n",
    "#figure out the heights which are \"real\" for the given times above\n",
    "perfect_data=my_model(v,g,times)\n",
    "\n",
    "\n",
    "datapoint_count = len(times)"
   ]
  },
  {
   "cell_type": "markdown",
   "metadata": {},
   "source": [
    "**Modify the data with height error only**\n",
    "=="
   ]
  },
  {
   "cell_type": "code",
   "execution_count": 12,
   "metadata": {},
   "outputs": [],
   "source": [
    "#Generate 1D dataset with measurement error\n",
    "#   By 1D, we mean that we have only error in the height measurement. \n",
    "#   We have NO time measurement error   \n",
    "\n",
    "\n",
    "\n",
    "#Introduce error into the \"perfect\" data using the experiment error\n",
    "measurement_uncertainty = 10\n",
    "errors=[measurement_uncertainty]*datapoint_count\n",
    "\n",
    "heights=np.random.normal(perfect_data,errors)\n",
    "my_data_1D=Table([times,heights,errors],\n",
    "              names=('time','height','error'))\n",
    "\n",
    "#print( my_data_1D )\n",
    "\n",
    "#Write the generated data to a file on the disk of the computer\n",
    "astropy.io.ascii.write( my_data_1D, \"1D_Generated_Data.astropydat\" , overwrite = True )"
   ]
  },
  {
   "cell_type": "code",
   "execution_count": 14,
   "metadata": {},
   "outputs": [],
   "source": [
    "#(SECRET)\n",
    "#Generate 1D uncertainty dataset with a model that will not work with\n",
    "#   a simple chi-square minimization.\n",
    "#   By 1D, we mean that we have only error in the height measurement. \n",
    "#   We have NO time measurement error   .\n",
    "\n",
    "#Set the variables for our model, and the model itself\n",
    "bad_v = 50\n",
    "bad_g = -10\n",
    "def my_bad_model( v,g, t):\n",
    "    return v*t -.5*g**2*t**2\n",
    "\n",
    "#Generate \"perfect\" data with the bad model.\n",
    "perfect_bad_data=my_bad_model(bad_v,bad_g,times)\n",
    "#Introduce error into the \"perfect\" data using the experiment error\n",
    "heights_bad=np.random.normal(perfect_bad_data,errors)\n",
    "my_bad_data_1D=Table([times,heights_bad,errors],\n",
    "              names=('time','height','error'))\n",
    "\n",
    "#print( my_data_1D )\n",
    "\n",
    "#Write the generated data to a file on the disk of the computer\n",
    "astropy.io.ascii.write( my_bad_data_1D, \"1D_Generated_Data_ChiProblem.astropydat\" , overwrite = True )"
   ]
  },
  {
   "cell_type": "markdown",
   "metadata": {},
   "source": [
    "**Modify the data with time AND height error**\n",
    "=="
   ]
  },
  {
   "cell_type": "code",
   "execution_count": 16,
   "metadata": {},
   "outputs": [],
   "source": [
    "#(SECRET)\n",
    "#Generate 2D uncertainty dataset\n",
    "#   By 2D, we mean that we have only error in BOTH\n",
    "#      the height measurement  \n",
    "#      AND time measurement error \n",
    "#   The errors are not mutually exclusive. \n",
    "#   The errors can be thought of as DEPENDENT RANDOM VARIABLES\n",
    "\n",
    "#Define the measurment error function which is something the experimentalist would give us.\n",
    "covariance_matrix = np.array(\n",
    "    [\n",
    "        [.58,   13.35],\n",
    "        [13.35, 501.77]\n",
    "    ])\n",
    "covariance_matrix_list = [covariance_matrix]*datapoint_count\n",
    "\n",
    "covariance_matrices=[covariance_matrix]*len(perfect_data)\n",
    "\n",
    "#Use the measurment error function to take the perfect data, and mess it up\n",
    "times_2d=[]\n",
    "heights_2d=[]\n",
    "for i in range(len(perfect_data)):\n",
    "    t,f=np.random.multivariate_normal(\n",
    "                    mean=[times[i],perfect_data[i]],\n",
    "                    cov=covariance_matrix)\n",
    "    times_2d.append(t)\n",
    "    heights_2d.append(f)\n",
    "\n",
    "my_data_2D=Table([times_2d,heights_2d],names=('time','height'))\n",
    "\n",
    "#Write the generated data to a file on the disk of the computer\n",
    "astropy.io.ascii.write( my_data_2D, \"2D_Generated_Data.astropydat\", overwrite = True )\n",
    "\n",
    "\n",
    "\n"
   ]
  },
  {
   "cell_type": "code",
   "execution_count": null,
   "metadata": {},
   "outputs": [],
   "source": []
  }
 ],
 "metadata": {
  "kernelspec": {
   "display_name": "Python 3",
   "language": "python",
   "name": "python3"
  },
  "language_info": {
   "codemirror_mode": {
    "name": "ipython",
    "version": 3
   },
   "file_extension": ".py",
   "mimetype": "text/x-python",
   "name": "python",
   "nbconvert_exporter": "python",
   "pygments_lexer": "ipython3",
   "version": "3.7.3"
  }
 },
 "nbformat": 4,
 "nbformat_minor": 2
}
